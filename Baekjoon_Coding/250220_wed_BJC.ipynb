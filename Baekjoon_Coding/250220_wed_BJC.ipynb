{
 "cells": [
  {
   "cell_type": "markdown",
   "metadata": {},
   "source": [
    "입출력과 사친연산"
   ]
  },
  {
   "cell_type": "code",
   "execution_count": 3,
   "metadata": {},
   "outputs": [
    {
     "name": "stdout",
     "output_type": "stream",
     "text": [
      "Hello World!\n"
     ]
    }
   ],
   "source": [
    "# 입출력과 사칙연산 1\n",
    "# #2557. Hello World!를 출력하시오.\n",
    "\n",
    "print(\"Hello World!\")"
   ]
  },
  {
   "cell_type": "code",
   "execution_count": null,
   "metadata": {},
   "outputs": [
    {
     "name": "stdout",
     "output_type": "stream",
     "text": [
      "3\n"
     ]
    }
   ],
   "source": [
    "# 입출력과 사칙연산 2\n",
    "# #1000. 두 정수 A와 B를 입력받은 다음, A+B를 출력\n",
    "\n",
    "A, B = map(int, input().split())\n",
    "print(A + B)"
   ]
  },
  {
   "cell_type": "code",
   "execution_count": null,
   "metadata": {},
   "outputs": [
    {
     "name": "stdout",
     "output_type": "stream",
     "text": [
      "1\n"
     ]
    }
   ],
   "source": [
    "# 입출력과 사칙연산 3\n",
    "# #1001. 두 정수 A와 B를 입력받은 다음, A-B를 출력\n",
    "\n",
    "A, B = map(int, input().split())\n",
    "print(A - B)"
   ]
  },
  {
   "cell_type": "code",
   "execution_count": null,
   "metadata": {},
   "outputs": [
    {
     "name": "stdout",
     "output_type": "stream",
     "text": [
      "2\n"
     ]
    }
   ],
   "source": [
    "# 입출력과 사칙연산 4\n",
    "# #10998. 두 정수 A와 B를 입력받은 다음, A×B를 출력\n",
    "\n",
    "A, B = map(int, input().split())\n",
    "print(A * B)"
   ]
  },
  {
   "cell_type": "code",
   "execution_count": null,
   "metadata": {},
   "outputs": [
    {
     "name": "stdout",
     "output_type": "stream",
     "text": [
      "0.3333333333333333\n"
     ]
    }
   ],
   "source": [
    "# 입출력과 사칙연산 5\n",
    "# #1008. 두 정수 A와 B를 입력받은 다음, A/B를 출력\n",
    "\n",
    "A, B = map(int, input().split())\n",
    "print(A / B)"
   ]
  },
  {
   "cell_type": "code",
   "execution_count": null,
   "metadata": {},
   "outputs": [
    {
     "name": "stdout",
     "output_type": "stream",
     "text": [
      "10\n",
      "4\n",
      "21\n",
      "2\n",
      "1\n"
     ]
    }
   ],
   "source": [
    "# 입출력과 사칙연산 6\n",
    "# #10869. \n",
    "# 두 자연수 A와 B가 주어진다. (1 ≤ A, B ≤ 10,000)\n",
    "# 첫째 줄에 A+B, 둘째 줄에 A-B, 셋째 줄에 A*B, 넷째 줄에 A/B(몫), 다섯째 줄에 A%B(나머지)를 출력\n",
    "\n",
    "A, B = map(int, input().split())\n",
    "print(A+B)\n",
    "print(A-B)\n",
    "print(A*B)\n",
    "print(A//B)\n",
    "print(A%B)\n"
   ]
  },
  {
   "cell_type": "code",
   "execution_count": null,
   "metadata": {},
   "outputs": [
    {
     "name": "stdout",
     "output_type": "stream",
     "text": [
      "joonas??!\n"
     ]
    }
   ],
   "source": [
    "# 입출력과 사칙연산 7\n",
    "# #10926. \n",
    "\n",
    "ID = input()\n",
    "print(ID+\"??!\")"
   ]
  },
  {
   "cell_type": "markdown",
   "metadata": {},
   "source": [
    "input()\n",
    "\n",
    "print(input()+\"??!\")\n",
    "\n",
    "=> EOFError\n",
    "\n",
    "ID = map(char, input())\n",
    "\n",
    "print(ID+\"??!\")\n",
    "\n",
    "=> NameError"
   ]
  },
  {
   "cell_type": "code",
   "execution_count": 11,
   "metadata": {},
   "outputs": [
    {
     "name": "stdout",
     "output_type": "stream",
     "text": [
      "1998\n"
     ]
    }
   ],
   "source": [
    "# 입출력과 사칙연산 8\n",
    "# #10108.\n",
    "# 서기 연도를 알아보고 싶은 불기 연도 y가 주어진다. (1000 ≤ y ≤ 3000)\n",
    "# 불기 연도를 서기 연도로 변환한 결과를 출력\n",
    "\n",
    "y = input()\n",
    "print(int(y)-543)"
   ]
  },
  {
   "cell_type": "code",
   "execution_count": 12,
   "metadata": {},
   "outputs": [
    {
     "name": "stdout",
     "output_type": "stream",
     "text": [
      "1\n",
      "1\n",
      "0\n",
      "0\n"
     ]
    }
   ],
   "source": [
    "# 입출력과 사칙연산 9\n",
    "# #10430.\n",
    "# 첫째 줄에 A, B, C가 순서대로 주어진다. (2 ≤ A, B, C ≤ 10000)\n",
    "# 첫째 줄에 (A+B)%C, 둘째 줄에 ((A%C) + (B%C))%C, 셋째 줄에 (A×B)%C, 넷째 줄에 ((A%C) × (B%C))%C를 출력\n",
    "\n",
    "A, B, C = map(int, input().split())\n",
    "print((A+B)%C)\n",
    "print(((A%C)+(B%C))%C)\n",
    "print((A*B)%C)\n",
    "print(((A%C)*(B%C))%C)"
   ]
  },
  {
   "attachments": {
    "image.png": {
     "image/png": "[encoded data removed]"
    }
   },
   "cell_type": "markdown",
   "metadata": {},
   "source": [
    "![image.png](attachment:image.png)"
   ]
  },
  {
   "cell_type": "code",
   "execution_count": 15,
   "metadata": {},
   "outputs": [
    {
     "name": "stdout",
     "output_type": "stream",
     "text": [
      "2360\n",
      "3776\n",
      "1416\n",
      "181720\n"
     ]
    }
   ],
   "source": [
    "# 입출력과 사칙연산 10\n",
    "# #2588.\n",
    "# 1)과 (2)위치에 들어갈 세 자리 자연수가 주어질 때 (3), (4), (5), (6)에 들어갈 값을 출력\n",
    "\n",
    "A = int(input())\n",
    "B = int(input())\n",
    "\n",
    "print(A*(B%10))\n",
    "print(A*((B//10)%10))\n",
    "print(A*(B//100))\n",
    "print(A*B)"
   ]
  },
  {
   "cell_type": "markdown",
   "metadata": {},
   "source": [
    "*\n",
    "A = input()\n",
    "\n",
    "B = input()\n",
    "\n",
    "\n",
    "print(A*(B%10))\n",
    "\n",
    "print(A*((B//10)%10))\n",
    "\n",
    "print(A*(B//100))\n",
    "\n",
    "print(A*B)\n",
    "\n",
    "=> TypeError\n",
    "\n",
    "*\n",
    "A, B = map(int, input().split())\n",
    "\n",
    "\n",
    "print(A*(B%10))\n",
    "\n",
    "print(A*((B%100)//10))\n",
    "\n",
    "print(A*(B//100))\n",
    "\n",
    "print(A*B)\n",
    "\n",
    "=> ValueError"
   ]
  },
  {
   "cell_type": "code",
   "execution_count": 16,
   "metadata": {},
   "outputs": [
    {
     "name": "stdout",
     "output_type": "stream",
     "text": [
      "7931\n"
     ]
    }
   ],
   "source": [
    "# 입출력과 사칙연산 11\n",
    "# #11382.\n",
    "# 첫 번째 줄에 A, B, C (1 ≤ A, B, C ≤ 1012)이 공백을 사이에 두고 주어진다.\n",
    "# A+B+C의 값을 출력\n",
    "\n",
    "A, B, C = map(int, input().split())\n",
    "print(A+B+C)"
   ]
  }
 ],
 "metadata": {
  "kernelspec": {
   "display_name": "Python 3",
   "language": "python",
   "name": "python3"
  },
  "language_info": {
   "codemirror_mode": {
    "name": "ipython",
    "version": 3
   },
   "file_extension": ".py",
   "mimetype": "text/x-python",
   "name": "python",
   "nbconvert_exporter": "python",
   "pygments_lexer": "ipython3",
   "version": "3.12.1"
  }
 },
 "nbformat": 4,
 "nbformat_minor": 2
}
